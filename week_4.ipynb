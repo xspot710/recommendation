{
  "cells": [
    {
      "cell_type": "code",
      "execution_count": 1,
      "metadata": {
        "id": "Dt3chha1eq2A"
      },
      "outputs": [],
      "source": [
        "import pandas as pd"
      ]
    },
    {
      "cell_type": "markdown",
      "metadata": {
        "id": "3BaH0NDcVZNo"
      },
      "source": [
        "## 載入資料"
      ]
    },
    {
      "cell_type": "code",
      "execution_count": 2,
      "metadata": {
        "id": "gIvd_1UmVpaq"
      },
      "outputs": [],
      "source": [
        "# TODO: 可能找個地方放 iCook 資料檔案，然後在這邊 wget 下來"
      ]
    },
    {
      "cell_type": "code",
      "execution_count": 3,
      "metadata": {
        "id": "vhuD8hrvbxTv"
      },
      "outputs": [],
      "source": [
        "recipes_df = pd.read_json('recipes.jsonl.gz', lines=True, compression='gzip')\n",
        "# recipes_df\n",
        "\n",
        "ingredients_df = pd.read_json('ingredients.jsonl.gz', lines=True, compression='gzip')\n",
        "# ingredients_df\n",
        "\n",
        "favorites_df = pd.read_json('favorites.json.gz', compression='gzip')\n",
        "# favorites_df\n",
        "\n",
        "test_favorites_df = pd.read_json('test_favorites.json.gz', compression='gzip')\n",
        "# test_favorites_df\n",
        "\n",
        "test_user_ids = pd.read_csv('test_user_ids.txt.gz', compression='gzip', names=['user_id'])\n",
        "# test_user_ids"
      ]
    },
    {
      "cell_type": "markdown",
      "metadata": {},
      "source": [
        "## EDA"
      ]
    },
    {
      "cell_type": "markdown",
      "metadata": {},
      "source": [
        "### ingredients"
      ]
    },
    {
      "cell_type": "code",
      "execution_count": 4,
      "metadata": {},
      "outputs": [
        {
          "name": "stdout",
          "output_type": "stream",
          "text": [
            "[None '果醬' '磅蛋糕' ... '蟹餅材料 A' '蟹餅材料 B' '檸檬美乃滋沾醬']\n"
          ]
        }
      ],
      "source": [
        "ls = ingredients_df.group_name.unique()\n",
        "print(ls)"
      ]
    },
    {
      "cell_type": "markdown",
      "metadata": {},
      "source": [
        "看起來應該是可以自填的，有空值，也有各種相似，但不同的分組。"
      ]
    },
    {
      "cell_type": "code",
      "execution_count": 5,
      "metadata": {},
      "outputs": [
        {
          "name": "stdout",
          "output_type": "stream",
          "text": [
            "['蒲瓜' '排骨' '鹽' ... '白飯?' '鮭魚?' '斧頭牛扒']\n"
          ]
        }
      ],
      "source": [
        "ls = ingredients_df.name.unique()\n",
        "print(ls)"
      ]
    },
    {
      "cell_type": "markdown",
      "metadata": {},
      "source": [
        "目標是希望藉由食材來對各類食譜做出區分，來判斷哪些食譜之間較為相似。\n",
        "應該使用name的欄位就足夠了，group name的資訊，有些有點重複。\n",
        "而且，group的內容，應該是可以藉由name的欄位就推測出來。"
      ]
    },
    {
      "cell_type": "markdown",
      "metadata": {},
      "source": [
        "# recipes"
      ]
    },
    {
      "cell_type": "code",
      "execution_count": 6,
      "metadata": {},
      "outputs": [
        {
          "data": {
            "text/plain": [
              "False"
            ]
          },
          "execution_count": 6,
          "metadata": {},
          "output_type": "execute_result"
        }
      ],
      "source": [
        "recipes_df.name.isna().any()"
      ]
    },
    {
      "cell_type": "code",
      "execution_count": 7,
      "metadata": {},
      "outputs": [
        {
          "name": "stdout",
          "output_type": "stream",
          "text": [
            "0.07204843391369722\n"
          ]
        }
      ],
      "source": [
        "top_number = 10\n",
        "top_recipes = recipes_df.sort_values('favorites_count', ascending=False).iloc[:top_number, :]\n",
        "total_f_user_count = len(favorites_df.user_id.unique())\n",
        "top_f_user = favorites_df[favorites_df.recipe_id.isin(top_recipes.id)]\n",
        "top_f_user_count = len(top_f_user.user_id.unique())\n",
        "print(top_f_user_count / total_f_user_count)"
      ]
    },
    {
      "cell_type": "markdown",
      "metadata": {},
      "source": [
        "前10名的收藏僅佔全user的7%。 不是大家都會收藏一樣的食譜。\n",
        "只用收藏數高的食譜做推薦的效果會不太好。"
      ]
    },
    {
      "cell_type": "markdown",
      "metadata": {},
      "source": [
        "## 計算食譜相似度"
      ]
    },
    {
      "cell_type": "code",
      "execution_count": 8,
      "metadata": {},
      "outputs": [],
      "source": [
        "import jieba  # 用結巴來做中文斷詞分析"
      ]
    },
    {
      "cell_type": "code",
      "execution_count": 9,
      "metadata": {},
      "outputs": [
        {
          "data": {
            "text/html": [
              "<div>\n",
              "<style scoped>\n",
              "    .dataframe tbody tr th:only-of-type {\n",
              "        vertical-align: middle;\n",
              "    }\n",
              "\n",
              "    .dataframe tbody tr th {\n",
              "        vertical-align: top;\n",
              "    }\n",
              "\n",
              "    .dataframe thead th {\n",
              "        text-align: right;\n",
              "    }\n",
              "</style>\n",
              "<table border=\"1\" class=\"dataframe\">\n",
              "  <thead>\n",
              "    <tr style=\"text-align: right;\">\n",
              "      <th></th>\n",
              "      <th>recipe_id</th>\n",
              "      <th>all_name</th>\n",
              "    </tr>\n",
              "  </thead>\n",
              "  <tbody>\n",
              "    <tr>\n",
              "      <th>0</th>\n",
              "      <td>319968</td>\n",
              "      <td>鮮奶燉蛋 雞蛋 鮮奶 砂糖</td>\n",
              "    </tr>\n",
              "    <tr>\n",
              "      <th>1</th>\n",
              "      <td>319797</td>\n",
              "      <td>初次醃蘿蔔【鬼怪】 白蘿蔔（小） 白醋 水 砂糖 食鹽</td>\n",
              "    </tr>\n",
              "    <tr>\n",
              "      <th>2</th>\n",
              "      <td>311082</td>\n",
              "      <td>零基礎免揉-哈拉Challah辮子麵包\\n 免揉哈拉基礎麵團 手粉(高筋麵粉) 蛋液 黑芝麻</td>\n",
              "    </tr>\n",
              "    <tr>\n",
              "      <th>3</th>\n",
              "      <td>286167</td>\n",
              "      <td>洋蔥豬扒 梅頭豬扒 洋蔥 蕃茄醬 糖 意大利黑醋 生抽 水</td>\n",
              "    </tr>\n",
              "    <tr>\n",
              "      <th>4</th>\n",
              "      <td>317195</td>\n",
              "      <td>蒜香肉絲小松菜 小松菜 肉絲 醬油 蒜頭 米酒 鹽 米酒 水</td>\n",
              "    </tr>\n",
              "    <tr>\n",
              "      <th>...</th>\n",
              "      <td>...</td>\n",
              "      <td>...</td>\n",
              "    </tr>\n",
              "    <tr>\n",
              "      <th>27353</th>\n",
              "      <td>361673</td>\n",
              "      <td>藥膳火鍋鍋底 大雞腿 雞胸肉 中藥材-黃精 高麗菜 中藥材-何首烏 米酒 中藥材-當歸 水 ...</td>\n",
              "    </tr>\n",
              "    <tr>\n",
              "      <th>27354</th>\n",
              "      <td>362481</td>\n",
              "      <td>在家自製斧頭扒～大廚級出馬 斧頭牛扒 無鹽牛油 黑椒粉 蒜頭 鹽 油 香草碎</td>\n",
              "    </tr>\n",
              "    <tr>\n",
              "      <th>27355</th>\n",
              "      <td>362407</td>\n",
              "      <td>皮蛋瘦肉粥（健康）（減肥）（零失敗） 隔夜飯或煮好的白飯 豬肉片，等等切條 醬油 白菜 雞蛋...</td>\n",
              "    </tr>\n",
              "    <tr>\n",
              "      <th>27356</th>\n",
              "      <td>362485</td>\n",
              "      <td>簡易櫻花蝦蘿蔔糕 白蘿蔔 再來米粉 水 櫻花蝦 紅蔥頭酥 白胡椒粉</td>\n",
              "    </tr>\n",
              "    <tr>\n",
              "      <th>27357</th>\n",
              "      <td>362262</td>\n",
              "      <td>咔拉炸雞大破解 雞腿或雞胸 蒜粉 低筋麵粉 洋蔥粉 黑胡椒粉 鹽巴 鹽 粗粒黑胡椒粉 But...</td>\n",
              "    </tr>\n",
              "  </tbody>\n",
              "</table>\n",
              "<p>27358 rows × 2 columns</p>\n",
              "</div>"
            ],
            "text/plain": [
              "       recipe_id                                           all_name\n",
              "0         319968                                     鮮奶燉蛋 雞蛋 鮮奶 砂糖 \n",
              "1         319797                       初次醃蘿蔔【鬼怪】 白蘿蔔（小） 白醋 水 砂糖 食鹽 \n",
              "2         311082    零基礎免揉-哈拉Challah辮子麵包\\n 免揉哈拉基礎麵團 手粉(高筋麵粉) 蛋液 黑芝麻 \n",
              "3         286167                     洋蔥豬扒 梅頭豬扒 洋蔥 蕃茄醬 糖 意大利黑醋 生抽 水 \n",
              "4         317195                    蒜香肉絲小松菜 小松菜 肉絲 醬油 蒜頭 米酒 鹽 米酒 水 \n",
              "...          ...                                                ...\n",
              "27353     361673  藥膳火鍋鍋底 大雞腿 雞胸肉 中藥材-黃精 高麗菜 中藥材-何首烏 米酒 中藥材-當歸 水 ...\n",
              "27354     362481            在家自製斧頭扒～大廚級出馬 斧頭牛扒 無鹽牛油 黑椒粉 蒜頭 鹽 油 香草碎 \n",
              "27355     362407  皮蛋瘦肉粥（健康）（減肥）（零失敗） 隔夜飯或煮好的白飯 豬肉片，等等切條 醬油 白菜 雞蛋...\n",
              "27356     362485                 簡易櫻花蝦蘿蔔糕 白蘿蔔 再來米粉 水 櫻花蝦 紅蔥頭酥 白胡椒粉 \n",
              "27357     362262  咔拉炸雞大破解 雞腿或雞胸 蒜粉 低筋麵粉 洋蔥粉 黑胡椒粉 鹽巴 鹽 粗粒黑胡椒粉 But...\n",
              "\n",
              "[27358 rows x 2 columns]"
            ]
          },
          "execution_count": 9,
          "metadata": {},
          "output_type": "execute_result"
        }
      ],
      "source": [
        "recipe_igd_name = ingredients_df.copy()\n",
        "recipe_igd_name['name'] = recipe_igd_name['name'] + ' '\n",
        "recipe_igd_name = recipe_igd_name[['recipe_id', 'name']].groupby('recipe_id', as_index=False).sum()\n",
        "recipe_name_df = recipes_df[['id', 'name']].copy().rename(columns={'id': 'recipe_id'})\n",
        "recipe_name_df = recipe_name_df.merge(recipe_igd_name, on='recipe_id', how='outer')\n",
        "recipe_name_df = recipe_name_df.fillna('')\n",
        "recipe_name_df['all_name'] = recipe_name_df['name_x'] + ' ' + recipe_name_df['name_y']\n",
        "name_df = recipe_name_df[['recipe_id', 'all_name']].reset_index(drop=True)\n",
        "name_df\n"
      ]
    },
    {
      "cell_type": "code",
      "execution_count": 10,
      "metadata": {},
      "outputs": [],
      "source": [
        "import re\n",
        "\n",
        "def jeiba_function(text):\n",
        "    sentences = text.split(' ')\n",
        "    words = [' '.join(jieba.cut(sent)) for sent in sentences if not re.match('\\d|\\s', sent)]\n",
        "    words = ' '.join(words)\n",
        "    return words"
      ]
    },
    {
      "cell_type": "code",
      "execution_count": 12,
      "metadata": {},
      "outputs": [
        {
          "name": "stderr",
          "output_type": "stream",
          "text": [
            "Building prefix dict from the default dictionary ...\n",
            "Loading model from cache C:\\Users\\0338\\AppData\\Local\\Temp\\jieba.cache\n",
            "Loading model cost 0.487 seconds.\n",
            "Prefix dict has been built successfully.\n"
          ]
        }
      ],
      "source": [
        "name_df['jieba_text'] = name_df.all_name.apply(lambda x: jeiba_function(x))"
      ]
    },
    {
      "cell_type": "code",
      "execution_count": 38,
      "metadata": {},
      "outputs": [],
      "source": [
        "from sklearn.feature_extraction.text import TfidfVectorizer\n",
        "\n",
        "tf = TfidfVectorizer()\n",
        "tfidf_matrix = tf.fit_transform(name_df['jieba_text'])\n",
        "\n",
        "# 計算商品間的相似程度\n",
        "from sklearn.metrics.pairwise import cosine_similarity\n",
        "similarity_matrix = cosine_similarity(tfidf_matrix)\n",
        "mapping = pd.Series(name_df.index, index = name_df['recipe_id'])\n",
        "\n",
        "# 每個商品回傳 k 個最相近的商品\n",
        "def recommend_item(item_input, k=2):\n",
        "    try:\n",
        "        item_index = mapping[item_input]\n",
        "        similarity_score = list(enumerate(similarity_matrix[item_index]))\n",
        "        similarity_score = sorted(similarity_score, key=lambda x: x[1], reverse=True)\n",
        "        similarity_score = similarity_score[:k]\n",
        "        item_indices = [i[0] for i in similarity_score]\n",
        "        return (name_df['recipe_id'].iloc[item_indices].tolist())\n",
        "    except:\n",
        "        return []\n",
        "\n",
        "# 利用使用者購買過的商品產生推薦\n",
        "def recommend_items(items, k):\n",
        "    if len(items) == 0:\n",
        "      # 如果沒有購買記錄就給topk\n",
        "      return top_recipes.loc[:k, 'recipe_id'].tolist()\n",
        "    res = []\n",
        "    for d in items[0:1]:\n",
        "        res.extend(recommend_item(d, k))\n",
        "        # print(len(res))\n",
        "    # res = pd.unique(res).tolist()\n",
        "    return res\n"
      ]
    },
    {
      "cell_type": "markdown",
      "metadata": {
        "id": "f7eO--k2Vbsy"
      },
      "source": [
        "## 計算推薦"
      ]
    },
    {
      "cell_type": "code",
      "execution_count": 42,
      "metadata": {},
      "outputs": [],
      "source": [
        "test_user_ids_part = test_user_ids[:5000]\n",
        "test_favorites_df_part = test_favorites_df[test_favorites_df.user_id.isin(test_user_ids_part.user_id)]"
      ]
    },
    {
      "cell_type": "code",
      "execution_count": 43,
      "metadata": {},
      "outputs": [],
      "source": [
        "def recommender(training_data, users=[], k=10):\n",
        "    '''\n",
        "    * training_data: dataframe 輸入的訓練資料集（2018-09-01 以前資料）\n",
        "    * users: [] 需要被推薦的使用者\n",
        "    * k: int 每個使用者需要推薦的商品數\n",
        "    * recommendations: dict\n",
        "      {\n",
        "          使用者一： [推薦商品一, 推薦商品二, ...],\n",
        "          使用者二： [...], ...\n",
        "      }\n",
        "    '''\n",
        "    recommendations = {}\n",
        "    '''\n",
        "    content-based\n",
        "    '''\n",
        "    recipe_trainings = training_data\n",
        "    recipe_trainings = recipe_trainings.sort_values('created_at', ascending=False)\n",
        "    recommendations = {user: recommend_items(recipe_trainings.loc[recipe_trainings['user_id'] == user, 'recipe_id'].tolist(), k) for user in users}\n",
        "    return recommendations\n",
        "\n",
        "predictions = recommender(favorites_df, test_user_ids_part.user_id, k=3)"
      ]
    },
    {
      "cell_type": "code",
      "execution_count": null,
      "metadata": {},
      "outputs": [
        {
          "data": {
            "text/plain": [
              "{100004: [322535, 352505, 357318],\n",
              " 1000120: [355195, 335530, 359625],\n",
              " 1000205: [334385, 359069, 344451],\n",
              " 1000228: [356824, 361636, 356941],\n",
              " 1000554: [361133, 355841, 355204],\n",
              " 1000559: [337934, 297974, 330531],\n",
              " 1000569: [340459, 357217, 348794],\n",
              " 1000578: [343614, 338568, 317416],\n",
              " 1000616: [343536, 342933, 343104],\n",
              " 1000642: [328403, 329832, 341774],\n",
              " 1000675: [321271, 331586, 330188],\n",
              " 1000715: [360700, 345949, 354460],\n",
              " 1000766: [345805, 324590, 323346],\n",
              " 1001006: [323009, 326597, 328214],\n",
              " 1001098: [354283, 330217, 309646],\n",
              " 1001130: [336476, 345098, 354338],\n",
              " 1001234: [329928, 357815, 332437],\n",
              " 1001238: [346764, 325857, 350799],\n",
              " 1001256: [358633, 339724, 324390],\n",
              " 1001355: [341029, 353658, 341479]}"
            ]
          },
          "execution_count": 40,
          "metadata": {},
          "output_type": "execute_result"
        }
      ],
      "source": [
        "predictions"
      ]
    },
    {
      "cell_type": "markdown",
      "metadata": {
        "id": "hS1-8UnlVhJd"
      },
      "source": [
        "## 評估結果"
      ]
    },
    {
      "cell_type": "code",
      "execution_count": 44,
      "metadata": {
        "id": "4u0C1Ie5d_WN"
      },
      "outputs": [
        {
          "data": {
            "text/plain": [
              "0.00018042775256415594"
            ]
          },
          "execution_count": 44,
          "metadata": {},
          "output_type": "execute_result"
        }
      ],
      "source": [
        "def evaluate(real_results={}, predicted_results={}):\n",
        "    '''\n",
        "    * real_results: dict 真實被收藏的食譜資料\n",
        "    * predicted_results: dict 利用訓練資料學習的推薦食譜\n",
        "    * method: str\n",
        "    * score: float\n",
        "    '''\n",
        "    total = 0\n",
        "    for d in predicted_results:\n",
        "          total += len(set(predicted_results[d]) & set(test_favorites_df[test_favorites_df['user_id'] == d]['recipe_id']))\n",
        "\n",
        "    score = total / test_favorites_df.shape[0]\n",
        "    return score\n",
        "\n",
        "evaluate(test_favorites_df_part, predictions)"
      ]
    }
  ],
  "metadata": {
    "colab": {
      "name": "Untitled7.ipynb",
      "provenance": []
    },
    "kernelspec": {
      "display_name": "Python 3",
      "name": "python3"
    },
    "language_info": {
      "codemirror_mode": {
        "name": "ipython",
        "version": 3
      },
      "file_extension": ".py",
      "mimetype": "text/x-python",
      "name": "python",
      "nbconvert_exporter": "python",
      "pygments_lexer": "ipython3",
      "version": "3.9.5"
    }
  },
  "nbformat": 4,
  "nbformat_minor": 0
}
